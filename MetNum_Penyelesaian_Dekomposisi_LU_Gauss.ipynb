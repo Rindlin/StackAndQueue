{
  "nbformat": 4,
  "nbformat_minor": 0,
  "metadata": {
    "colab": {
      "provenance": [],
      "authorship_tag": "ABX9TyOWMiOgfZ6N2r0HKAMg8rp3",
      "include_colab_link": true
    },
    "kernelspec": {
      "name": "python3",
      "display_name": "Python 3"
    },
    "language_info": {
      "name": "python"
    }
  },
  "cells": [
    {
      "cell_type": "markdown",
      "metadata": {
        "id": "view-in-github",
        "colab_type": "text"
      },
      "source": [
        "<a href=\"https://colab.research.google.com/github/Rindlin/StackAndQueue/blob/master/MetNum_Penyelesaian_Dekomposisi_LU_Gauss.ipynb\" target=\"_parent\"><img src=\"https://colab.research.google.com/assets/colab-badge.svg\" alt=\"Open In Colab\"/></a>"
      ]
    },
    {
      "cell_type": "markdown",
      "source": [
        "## Decompos Function"
      ],
      "metadata": {
        "id": "_fRsn0dOqsZN"
      }
    },
    {
      "cell_type": "code",
      "execution_count": 1,
      "metadata": {
        "id": "bLeiiGVwqYJd"
      },
      "outputs": [],
      "source": [
        "def decompos(X):\n",
        "  n = len(X)\n",
        "\n",
        "  # create zeros matrix of L and U\n",
        "  L = [[0 for row in range(n)]\n",
        "       for col in range(n)]\n",
        "  U = [[0 for row in range(n)]\n",
        "       for col in range(n)]\n",
        "\n",
        "  for p in range(n):\n",
        "    for j in range(p,n):\n",
        "      sum = 0\n",
        "      for k in range(p):\n",
        "        sum = sum + L[p][k]*U[k][j]\n",
        "      U[p][j] = X[p][j] - sum\n",
        "\n",
        "    q = p\n",
        "    for i in range (q,n):\n",
        "      if (i==q):\n",
        "        L[i][q]=1\n",
        "      else:\n",
        "        sum = 0\n",
        "        for k in range(q):\n",
        "          sum = sum + L[i][k]*U[k][q]\n",
        "        L[i][q] = (X[i][q] - sum)/U[q][q]\n",
        "\n",
        "  return L, U"
      ]
    },
    {
      "cell_type": "markdown",
      "source": [
        "## Showing Matrix"
      ],
      "metadata": {
        "id": "VdrIwSiTrgb_"
      }
    },
    {
      "cell_type": "code",
      "source": [
        "def show(Matrix):\n",
        "    n = len(Matrix)\n",
        "    for row in range(n):\n",
        "        for col in range(n):\n",
        "            print(\"%.2f\" %Matrix[row][col], end=\"\\t\")\n",
        "        print(\"\")"
      ],
      "metadata": {
        "id": "OUb9TUnYrkRM"
      },
      "execution_count": 2,
      "outputs": []
    },
    {
      "cell_type": "markdown",
      "source": [
        "## Calculate"
      ],
      "metadata": {
        "id": "kTeWJU4psD8F"
      }
    },
    {
      "cell_type": "code",
      "source": [
        "#Contoh Matrix\n",
        "X = [[2, 4, -1], [3, -2, 5], [-5, 0.75, -2]]\n",
        "\n",
        "L, U = decompos(X)\n",
        "\n",
        "print(\"Matrix L :\")\n",
        "show(L)\n",
        "\n",
        "print(\"\\nMatrix U :\")\n",
        "show(U)"
      ],
      "metadata": {
        "colab": {
          "base_uri": "https://localhost:8080/"
        },
        "id": "brU4xOLssHBK",
        "outputId": "af4ed00e-e6e9-4f75-ac29-37285c82b6d1"
      },
      "execution_count": 3,
      "outputs": [
        {
          "output_type": "stream",
          "name": "stdout",
          "text": [
            "Matrix L :\n",
            "1.00\t0.00\t0.00\t\n",
            "1.50\t1.00\t0.00\t\n",
            "-2.50\t-1.34\t1.00\t\n",
            "\n",
            "Matrix U :\n",
            "2.00\t4.00\t-1.00\t\n",
            "0.00\t-8.00\t6.50\t\n",
            "0.00\t0.00\t4.23\t\n"
          ]
        }
      ]
    }
  ]
}